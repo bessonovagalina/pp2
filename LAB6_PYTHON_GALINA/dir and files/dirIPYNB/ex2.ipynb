{
 "cells": [
  {
   "cell_type": "code",
   "execution_count": null,
   "id": "1b9aa554",
   "metadata": {},
   "outputs": [],
   "source": [
    "import os\n",
    "\n",
    "def check_access(path):\n",
    "    # Проверка существования пути\n",
    "    if not os.path.exists(path):\n",
    "        print(\"Path does not exist\")\n",
    "        return\n",
    "    \n",
    "    if os.access(path, os.R_OK):#читаемость\n",
    "        print(\"Readable: Yes\")\n",
    "    else:\n",
    "        print(\"Readable: No\")\n",
    "    \n",
    "    if os.access(path, os.W_OK):#возможность записи\n",
    "        print(\"Writable: Yes\")\n",
    "    else:\n",
    "        print(\"Writable: No\")\n",
    "    \n",
    "    if os.access(path, os.X_OK):\n",
    "        print(\"Executable: Yes\")\n",
    "    else:\n",
    "        print(\"Executable: No\")\n",
    "\n",
    "specified_path = input(\"Enter the specified path: \")\n",
    "check_access(specified_path)\n"
   ]
  }
 ],
 "metadata": {
  "kernelspec": {
   "display_name": "Python 3 (ipykernel)",
   "language": "python",
   "name": "python3"
  },
  "language_info": {
   "codemirror_mode": {
    "name": "ipython",
    "version": 3
   },
   "file_extension": ".py",
   "mimetype": "text/x-python",
   "name": "python",
   "nbconvert_exporter": "python",
   "pygments_lexer": "ipython3",
   "version": "3.9.13"
  }
 },
 "nbformat": 4,
 "nbformat_minor": 5
}
