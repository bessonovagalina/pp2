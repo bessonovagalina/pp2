{
 "cells": [
  {
   "cell_type": "code",
   "execution_count": 1,
   "id": "7d9d0c12",
   "metadata": {},
   "outputs": [
    {
     "name": "stdout",
     "output_type": "stream",
     "text": [
      "['.ipynb_checkpoints', 'Untitled.ipynb']\n",
      "['.pro_files.backup', 'cavity1.wbpj', 'cavity1_files', 'cavity_files', 'cylinder.wbpj', 'cylinder_files', 'heat conduction.wbpj', 'heat conduction_files', 'Project.pptx', 'project_pipeflow1.wbpj', 'project_pipeflow1_files', 'project_pipeflow_files']\n"
     ]
    }
   ],
   "source": [
    "import os \n",
    "\n",
    "#print(os.listdir())\n",
    "\n",
    "absolute_path_to_folder = r\"C:\\Users\\ASUS\\Desktop\\UNI\\2 COURSE\\ANSYS\"\n",
    "\n",
    "print(os.listdir(absolute_path_to_folder))\n"
   ]
  },
  {
   "cell_type": "code",
   "execution_count": null,
   "id": "9fe5c64b",
   "metadata": {},
   "outputs": [],
   "source": []
  }
 ],
 "metadata": {
  "kernelspec": {
   "display_name": "Python 3 (ipykernel)",
   "language": "python",
   "name": "python3"
  },
  "language_info": {
   "codemirror_mode": {
    "name": "ipython",
    "version": 3
   },
   "file_extension": ".py",
   "mimetype": "text/x-python",
   "name": "python",
   "nbconvert_exporter": "python",
   "pygments_lexer": "ipython3",
   "version": "3.9.13"
  }
 },
 "nbformat": 4,
 "nbformat_minor": 5
}
