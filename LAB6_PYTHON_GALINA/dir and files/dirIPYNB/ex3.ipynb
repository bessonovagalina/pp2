{
 "cells": [
  {
   "cell_type": "code",
   "execution_count": 1,
   "id": "4d8c4d84",
   "metadata": {},
   "outputs": [
    {
     "name": "stdout",
     "output_type": "stream",
     "text": [
      "Enter the specified path: C:\\Users\\ASUS\\Desktop\\UNI\\2 COURSE\\ANSYS\n",
      "Filename: ANSYS\n",
      "Directory: C:\\Users\\ASUS\\Desktop\\UNI\\2 COURSE\n"
     ]
    }
   ],
   "source": [
    "import os\n",
    "\n",
    "def test_path(path):\n",
    "    if os.path.exists(path):\n",
    "        \n",
    "        filename = os.path.basename(path)#получчаем имя файла\n",
    "        print(\"Filename:\", filename)\n",
    "        \n",
    "        directory = os.path.dirname(path)#получаем имя каталога\n",
    "        print(\"Directory:\", directory)\n",
    "    else:\n",
    "        print(\"Path does not exist.\")\n",
    "\n",
    "specified_path = input(\"Enter the specified path: \")\n",
    "test_path(specified_path)\n"
   ]
  },
  {
   "cell_type": "code",
   "execution_count": null,
   "id": "02e11688",
   "metadata": {},
   "outputs": [],
   "source": []
  }
 ],
 "metadata": {
  "kernelspec": {
   "display_name": "Python 3 (ipykernel)",
   "language": "python",
   "name": "python3"
  },
  "language_info": {
   "codemirror_mode": {
    "name": "ipython",
    "version": 3
   },
   "file_extension": ".py",
   "mimetype": "text/x-python",
   "name": "python",
   "nbconvert_exporter": "python",
   "pygments_lexer": "ipython3",
   "version": "3.9.13"
  }
 },
 "nbformat": 4,
 "nbformat_minor": 5
}
