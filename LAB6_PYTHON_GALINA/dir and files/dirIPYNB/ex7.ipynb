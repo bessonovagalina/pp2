{
 "cells": [
  {
   "cell_type": "code",
   "execution_count": 2,
   "id": "8edac2af",
   "metadata": {},
   "outputs": [
    {
     "data": {
      "text/plain": [
       "<os._wrap_close at 0x23c03d07820>"
      ]
     },
     "execution_count": 2,
     "metadata": {},
     "output_type": "execute_result"
    }
   ],
   "source": [
    "import os\n",
    "source_file = \"1.txt\"#исхожный файл\n",
    "\n",
    "destination_file = \"3.txt\" #файл, в который будет скопировано все из 1.txt\n",
    "command = f\"cp {source_file} {destination_file}\"#создаем команду, которая копирует все из первого во втторой\n",
    "\n",
    "os.popen(command)#выполняет команду\n",
    "\n"
   ]
  },
  {
   "cell_type": "code",
   "execution_count": null,
   "id": "c47ee020",
   "metadata": {},
   "outputs": [],
   "source": []
  }
 ],
 "metadata": {
  "kernelspec": {
   "display_name": "Python 3 (ipykernel)",
   "language": "python",
   "name": "python3"
  },
  "language_info": {
   "codemirror_mode": {
    "name": "ipython",
    "version": 3
   },
   "file_extension": ".py",
   "mimetype": "text/x-python",
   "name": "python",
   "nbconvert_exporter": "python",
   "pygments_lexer": "ipython3",
   "version": "3.9.13"
  }
 },
 "nbformat": 4,
 "nbformat_minor": 5
}
