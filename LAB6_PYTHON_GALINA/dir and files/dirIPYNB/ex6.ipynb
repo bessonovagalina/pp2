{
 "cells": [
  {
   "cell_type": "code",
   "execution_count": 6,
   "id": "cbf4314b",
   "metadata": {},
   "outputs": [],
   "source": [
    "import os\n",
    "import re\n",
    "\n",
    "path_to_folder = './dir/'\n",
    "\n",
    "pattern = re.compile('[A-Z]')\n",
    "\n",
    "for i in pattern.findall('ABCDEFGHIJKLMNOPQRSTUVWXYZ'):\n",
    "    with open(os.path.join(path_to_folder, f\"{i}.txt\"), \"w\") as file: #os.path.join() используется для объединения пути к каталогу и имени файла\n",
    "        file.write(f\"This is {i}.txt, it was created and written from 6.py\")\n"
   ]
  },
  {
   "cell_type": "code",
   "execution_count": null,
   "id": "c2519334",
   "metadata": {},
   "outputs": [],
   "source": []
  }
 ],
 "metadata": {
  "kernelspec": {
   "display_name": "Python 3 (ipykernel)",
   "language": "python",
   "name": "python3"
  },
  "language_info": {
   "codemirror_mode": {
    "name": "ipython",
    "version": 3
   },
   "file_extension": ".py",
   "mimetype": "text/x-python",
   "name": "python",
   "nbconvert_exporter": "python",
   "pygments_lexer": "ipython3",
   "version": "3.9.13"
  }
 },
 "nbformat": 4,
 "nbformat_minor": 5
}
