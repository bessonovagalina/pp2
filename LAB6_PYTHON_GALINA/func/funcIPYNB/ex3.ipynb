{
 "cells": [
  {
   "cell_type": "code",
   "execution_count": 4,
   "id": "0b2fd0ff",
   "metadata": {},
   "outputs": [
    {
     "name": "stdout",
     "output_type": "stream",
     "text": [
      "Enter the string : erfj\n"
     ]
    }
   ],
   "source": [
    "def palindrome():\n",
    "        str1=str(input(\"Enter the string : \"))\n",
    "        reversed_word = ''.join(reversed(str1))\n",
    "        if reversed_word==str1:\n",
    "            print(\"yes, this is a palindrome\")\n",
    "        else:\n",
    "                \n",
    "palindrome()\n",
    "\n"
   ]
  },
  {
   "cell_type": "code",
   "execution_count": null,
   "id": "b2c931a6",
   "metadata": {},
   "outputs": [],
   "source": []
  }
 ],
 "metadata": {
  "kernelspec": {
   "display_name": "Python 3 (ipykernel)",
   "language": "python",
   "name": "python3"
  },
  "language_info": {
   "codemirror_mode": {
    "name": "ipython",
    "version": 3
   },
   "file_extension": ".py",
   "mimetype": "text/x-python",
   "name": "python",
   "nbconvert_exporter": "python",
   "pygments_lexer": "ipython3",
   "version": "3.9.13"
  }
 },
 "nbformat": 4,
 "nbformat_minor": 5
}
