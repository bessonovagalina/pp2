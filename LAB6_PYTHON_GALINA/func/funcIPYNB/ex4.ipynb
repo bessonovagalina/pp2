{
 "cells": [
  {
   "cell_type": "code",
   "execution_count": 4,
   "id": "3cccb508",
   "metadata": {},
   "outputs": [
    {
     "name": "stdout",
     "output_type": "stream",
     "text": [
      "3\n",
      "6\n",
      "Square root of 6 after 3 miliseconds is 2.449489742783178\n"
     ]
    }
   ],
   "source": [
    "from time import sleep\n",
    "from math import sqrt\n",
    "\n",
    "seconds = int(input())\n",
    "numb = int(input())\n",
    "\n",
    "sleep(seconds)\n",
    "\n",
    "print(f\"Square root of {numb} after {seconds} miliseconds is {sqrt(numb)}\" )\n"
   ]
  },
  {
   "cell_type": "code",
   "execution_count": null,
   "id": "d7914f60",
   "metadata": {},
   "outputs": [],
   "source": []
  }
 ],
 "metadata": {
  "kernelspec": {
   "display_name": "Python 3 (ipykernel)",
   "language": "python",
   "name": "python3"
  },
  "language_info": {
   "codemirror_mode": {
    "name": "ipython",
    "version": 3
   },
   "file_extension": ".py",
   "mimetype": "text/x-python",
   "name": "python",
   "nbconvert_exporter": "python",
   "pygments_lexer": "ipython3",
   "version": "3.9.13"
  }
 },
 "nbformat": 4,
 "nbformat_minor": 5
}
