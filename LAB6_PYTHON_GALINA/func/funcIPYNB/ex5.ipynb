{
 "cells": [
  {
   "cell_type": "code",
   "execution_count": 1,
   "id": "7517158a",
   "metadata": {},
   "outputs": [
    {
     "name": "stdout",
     "output_type": "stream",
     "text": [
      "list1, all: True\n"
     ]
    }
   ],
   "source": [
    "list1 = [1, True, 'hi', 3.14]\n",
    "\n",
    "print(\"list1, all:\", all(list1))\n"
   ]
  },
  {
   "cell_type": "code",
   "execution_count": null,
   "id": "43ba1df6",
   "metadata": {},
   "outputs": [],
   "source": []
  }
 ],
 "metadata": {
  "kernelspec": {
   "display_name": "Python 3 (ipykernel)",
   "language": "python",
   "name": "python3"
  },
  "language_info": {
   "codemirror_mode": {
    "name": "ipython",
    "version": 3
   },
   "file_extension": ".py",
   "mimetype": "text/x-python",
   "name": "python",
   "nbconvert_exporter": "python",
   "pygments_lexer": "ipython3",
   "version": "3.9.13"
  }
 },
 "nbformat": 4,
 "nbformat_minor": 5
}
