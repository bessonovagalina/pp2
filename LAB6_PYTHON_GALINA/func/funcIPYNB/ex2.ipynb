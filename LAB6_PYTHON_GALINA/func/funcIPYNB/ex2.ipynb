{
 "cells": [
  {
   "cell_type": "code",
   "execution_count": 2,
   "id": "5be24f26",
   "metadata": {},
   "outputs": [
    {
     "name": "stdout",
     "output_type": "stream",
     "text": [
      "Enter the string: OEdjwOIDE\n",
      "6 3\n"
     ]
    }
   ],
   "source": [
    "str1 = str(input(\"Enter the string: \"))\n",
    "\n",
    "def AZ(char):\n",
    "    return ord('A') <= ord(char) <= ord('Z')\n",
    "\n",
    "def az(char):\n",
    "    return ord('a') <= ord(char) <= ord('z')\n",
    "\n",
    "bigl = list(filter(AZ, str1))\n",
    "smalll = list(filter(az, str1))\n",
    "\n",
    "print(len(bigl), len(smalll))\n"
   ]
  },
  {
   "cell_type": "code",
   "execution_count": null,
   "id": "27ff0d04",
   "metadata": {},
   "outputs": [],
   "source": []
  }
 ],
 "metadata": {
  "kernelspec": {
   "display_name": "Python 3 (ipykernel)",
   "language": "python",
   "name": "python3"
  },
  "language_info": {
   "codemirror_mode": {
    "name": "ipython",
    "version": 3
   },
   "file_extension": ".py",
   "mimetype": "text/x-python",
   "name": "python",
   "nbconvert_exporter": "python",
   "pygments_lexer": "ipython3",
   "version": "3.9.13"
  }
 },
 "nbformat": 4,
 "nbformat_minor": 5
}
